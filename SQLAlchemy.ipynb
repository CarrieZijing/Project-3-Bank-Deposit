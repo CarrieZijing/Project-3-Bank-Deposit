{
 "cells": [
  {
   "cell_type": "code",
   "execution_count": 4,
   "id": "010f730c",
   "metadata": {},
   "outputs": [],
   "source": [
    "import pandas as pd"
   ]
  },
  {
   "cell_type": "code",
   "execution_count": 5,
   "id": "ae07686b",
   "metadata": {},
   "outputs": [
    {
     "name": "stdout",
     "output_type": "stream",
     "text": [
      "Requirement already satisfied: SQLAlchemy in c:\\users\\ouykh\\anaconda3\\lib\\site-packages (1.4.7)\n",
      "Requirement already satisfied: greenlet!=0.4.17 in c:\\users\\ouykh\\anaconda3\\lib\\site-packages (from SQLAlchemy) (1.0.0)\n",
      "Note: you may need to restart the kernel to use updated packages.\n"
     ]
    }
   ],
   "source": [
    "pip install SQLAlchemy"
   ]
  },
  {
   "cell_type": "code",
   "execution_count": 6,
   "id": "43d36f4a",
   "metadata": {},
   "outputs": [],
   "source": [
    "from sqlalchemy import create_engine\n",
    "engine = create_engine('sqlite://', echo=False)"
   ]
  },
  {
   "cell_type": "markdown",
   "id": "c3909248",
   "metadata": {},
   "source": [
    "# Create a SQL Table From a DataFrame\n",
    "\n",
    "https://hackersandslackers.com/connecting-pandas-to-a-sql-database-with-sqlalchemy/ "
   ]
  },
  {
   "cell_type": "code",
   "execution_count": 7,
   "id": "0fb5655b",
   "metadata": {},
   "outputs": [],
   "source": [
    "df = pd.read_csv(r'C:\\Users\\ouykh\\Project-3-Bank-Deposit\\cleandata.csv')"
   ]
  },
  {
   "cell_type": "code",
   "execution_count": 8,
   "id": "067ca7d0",
   "metadata": {},
   "outputs": [],
   "source": [
    "from sqlalchemy.types import Integer, Text, String, DateTime\n",
    "\n",
    "...\n",
    "\n",
    "table_name = 'bank_deposit'\n",
    "\n",
    "df.to_sql(\n",
    "    table_name,\n",
    "    engine,\n",
    "    if_exists='replace',\n",
    "    index=True,\n",
    "    chunksize=500,\n",
    "    dtype={\n",
    "        \"age\": Integer,\n",
    "        \"job\": Text,\n",
    "        \"marital\": Text,\n",
    "        \"education\":  Text,\n",
    "        \"default\": Text,\n",
    "        \"balance\": Integer,\n",
    "        \"housing\": Text,\n",
    "        \"loan\": Text,\n",
    "        \"contact\": Text,\n",
    "        \"day\": Integer,\n",
    "        \"month\": Text,\n",
    "        \"duration\": Integer,\n",
    "        \"campaign\": Integer,\n",
    "        \"pdays\": Integer,\n",
    "        \"previous\": Integer,\n",
    "        \"poutcome\":  Text,\n",
    "        \"Bank deposit(target)\":  Text,\n",
    "    }\n",
    ")"
   ]
  },
  {
   "cell_type": "code",
   "execution_count": null,
   "id": "1abdc8b7",
   "metadata": {},
   "outputs": [],
   "source": []
  }
 ],
 "metadata": {
  "kernelspec": {
   "display_name": "Python 3",
   "language": "python",
   "name": "python3"
  },
  "language_info": {
   "codemirror_mode": {
    "name": "ipython",
    "version": 3
   },
   "file_extension": ".py",
   "mimetype": "text/x-python",
   "name": "python",
   "nbconvert_exporter": "python",
   "pygments_lexer": "ipython3",
   "version": "3.8.8"
  }
 },
 "nbformat": 4,
 "nbformat_minor": 5
}
